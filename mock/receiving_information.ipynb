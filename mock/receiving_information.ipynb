{
 "cells": [
  {
   "cell_type": "code",
   "execution_count": 2,
   "metadata": {},
   "outputs": [
    {
     "ename": "ImportError",
     "evalue": "DLL load failed while importing _pyspectrum: The specified module could not be found.",
     "output_type": "error",
     "traceback": [
      "\u001b[1;31m---------------------------------------------------------------------------\u001b[0m",
      "\u001b[1;31mImportError\u001b[0m                               Traceback (most recent call last)",
      "Cell \u001b[1;32mIn[2], line 2\u001b[0m\n\u001b[0;32m      1\u001b[0m \u001b[38;5;28;01mimport\u001b[39;00m \u001b[38;5;21;01mnumpy\u001b[39;00m \u001b[38;5;28;01mas\u001b[39;00m \u001b[38;5;21;01mnp\u001b[39;00m\n\u001b[1;32m----> 2\u001b[0m \u001b[38;5;28;01mfrom\u001b[39;00m \u001b[38;5;21;01mpyspectrum\u001b[39;00m \u001b[38;5;28;01mimport\u001b[39;00m Spectrum, Data\n",
      "File \u001b[1;32mc:\\Users\\nihhi\\Projects\\NSU\\NSU-team-project\\.venv\\lib\\site-packages\\pyspectrum\\__init__.py:3\u001b[0m\n\u001b[0;32m      1\u001b[0m \u001b[38;5;28;01mfrom\u001b[39;00m \u001b[38;5;21;01m.\u001b[39;00m\u001b[38;5;21;01merrors\u001b[39;00m \u001b[38;5;28;01mimport\u001b[39;00m \u001b[38;5;241m*\u001b[39m\n\u001b[0;32m      2\u001b[0m \u001b[38;5;28;01mfrom\u001b[39;00m \u001b[38;5;21;01m.\u001b[39;00m\u001b[38;5;21;01mdata\u001b[39;00m \u001b[38;5;28;01mimport\u001b[39;00m Data, Spectrum\n\u001b[1;32m----> 3\u001b[0m \u001b[38;5;28;01mfrom\u001b[39;00m \u001b[38;5;21;01m.\u001b[39;00m\u001b[38;5;21;01mspectrometer\u001b[39;00m \u001b[38;5;28;01mimport\u001b[39;00m Spectrometer, FactoryConfig\n\u001b[0;32m      4\u001b[0m \u001b[38;5;28;01mfrom\u001b[39;00m \u001b[38;5;21;01m.\u001b[39;00m\u001b[38;5;21;01mdevice_factory\u001b[39;00m \u001b[38;5;28;01mimport\u001b[39;00m UsbID, EthernetID\n",
      "File \u001b[1;32mc:\\Users\\nihhi\\Projects\\NSU\\NSU-team-project\\.venv\\lib\\site-packages\\pyspectrum\\spectrometer.py:6\u001b[0m\n\u001b[0;32m      3\u001b[0m \u001b[38;5;28;01mfrom\u001b[39;00m \u001b[38;5;21;01mdataclasses\u001b[39;00m \u001b[38;5;28;01mimport\u001b[39;00m dataclass\n\u001b[0;32m      4\u001b[0m \u001b[38;5;28;01mfrom\u001b[39;00m \u001b[38;5;21;01mtyping\u001b[39;00m \u001b[38;5;28;01mimport\u001b[39;00m Optional\n\u001b[1;32m----> 6\u001b[0m \u001b[38;5;28;01mimport\u001b[39;00m \u001b[38;5;21;01m_pyspectrum\u001b[39;00m \u001b[38;5;28;01mas\u001b[39;00m \u001b[38;5;21;01minternal\u001b[39;00m\n\u001b[0;32m      7\u001b[0m \u001b[38;5;28;01mimport\u001b[39;00m \u001b[38;5;21;01mnumpy\u001b[39;00m \u001b[38;5;28;01mas\u001b[39;00m \u001b[38;5;21;01mnp\u001b[39;00m\n\u001b[0;32m      8\u001b[0m \u001b[38;5;28;01mfrom\u001b[39;00m \u001b[38;5;21;01mnumpy\u001b[39;00m\u001b[38;5;21;01m.\u001b[39;00m\u001b[38;5;21;01mtyping\u001b[39;00m \u001b[38;5;28;01mimport\u001b[39;00m NDArray\n",
      "\u001b[1;31mImportError\u001b[0m: DLL load failed while importing _pyspectrum: The specified module could not be found."
     ]
    }
   ],
   "source": [
    "import numpy as np\n",
    "from pyspectrum import Spectrum, Data"
   ]
  },
  {
   "cell_type": "code",
   "execution_count": null,
   "metadata": {},
   "outputs": [],
   "source": [
    "class MockSpectrometer:\n",
    "    def __init__(self):\n",
    "        self.__wavelengths = np.linspace(400, 700, 1000)  # Пример калибровки длины волн\n",
    "        self.__dark_signal = None\n",
    "        self.__config = None\n",
    "\n",
    "    def set_config(self, exposure, n_times, wavelength_calibration_path):\n",
    "        self.__config = {\n",
    "            'exposure': exposure,\n",
    "            'n_times': n_times,\n",
    "            'wavelength_calibration_path': wavelength_calibration_path\n",
    "        }\n",
    "        print(f\"Mock device configured: exposure={exposure}, n_times={n_times}, \"\n",
    "              f\"wavelength_calibration_path={wavelength_calibration_path}\")\n",
    "\n",
    "    def read_dark_signal(self, n_times):\n",
    "        # Подделываем темновой сигнал как случайные данные\n",
    "        self.__dark_signal = Data(\n",
    "            intensity=np.random.normal(0, 0.01, (n_times, 1000)),\n",
    "            clipped=False,\n",
    "            exposure=self.__config['exposure']  # Добавляем экспозицию\n",
    "        )\n",
    "        print(f\"Mock dark signal read with {n_times} frames.\")\n",
    "\n",
    "    def read_raw(self):\n",
    "        # Подделываем необработанный сигнал как случайные данные\n",
    "        return Data(\n",
    "            intensity=np.random.random(1000) * 1000,  # Имитация сырых данных\n",
    "            clipped=False,\n",
    "            exposure=self.__config['exposure']  # Добавляем экспозицию\n",
    "        )\n",
    "\n",
    "    def read(self, force: bool = False) -> Spectrum:\n",
    "        if self.__wavelengths is None and not force:\n",
    "            raise Exception('Wavelength calibration is not loaded')\n",
    "        if self.__dark_signal is None:\n",
    "            raise Exception('Dark signal is not loaded')\n",
    "\n",
    "        data = self.read_raw()\n",
    "        scale = 1.0  # Для простоты масштаб делаем равным 1\n",
    "        return Spectrum(\n",
    "            intensity=(data.intensity / scale - np.round(\n",
    "                np.mean(self.__dark_signal.intensity / scale, axis=0))) * scale,\n",
    "            clipped=data.clipped,\n",
    "            wavelength=self.__wavelengths,\n",
    "            exposure=self.__config['exposure'],\n",
    "        )\n"
   ]
  },
  {
   "cell_type": "code",
   "execution_count": null,
   "metadata": {},
   "outputs": [],
   "source": [
    "# Используем поддельное устройство\n",
    "mock_device = MockSpectrometer()\n",
    "\n",
    "# Настройка поддельного устройства\n",
    "mock_device.set_config(\n",
    "    exposure=1,     # Экспозиция 1 мс\n",
    "    n_times=1000,   # За один раз будет считано 1000 кадров\n",
    "    wavelength_calibration_path='data/profile.json'\n",
    ")\n",
    "\n",
    "# Чтение темнового сигнала\n",
    "mock_device.read_dark_signal(n_times=1000)\n",
    "\n",
    "# Чтение поддельных данных с устройства\n",
    "mock_spectrum = mock_device.read()\n",
    "\n",
    "# Сохранение поддельных данных (можно сделать реальный save метод или просто вывести)\n",
    "print(\"Mock spectrum data:\", mock_spectrum.intensity)\n"
   ]
  }
 ],
 "metadata": {
  "kernelspec": {
   "display_name": "Python 3",
   "language": "python",
   "name": "python3"
  },
  "language_info": {
   "codemirror_mode": {
    "name": "ipython",
    "version": 3
   },
   "file_extension": ".py",
   "mimetype": "text/x-python",
   "name": "python",
   "nbconvert_exporter": "python",
   "pygments_lexer": "ipython3",
   "version": "3.10.8"
  }
 },
 "nbformat": 4,
 "nbformat_minor": 2
}
