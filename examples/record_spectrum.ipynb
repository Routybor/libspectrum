{
 "cells": [
  {
   "attachments": {},
   "cell_type": "markdown",
   "metadata": {},
   "source": [
    "# Чтение спектра и запись данных в файл"
   ]
  },
  {
   "cell_type": "code",
   "execution_count": 4,
   "metadata": {},
   "outputs": [],
   "source": [
    "from pyspectrum import Spectrometer, Spectrum, Data"
   ]
  },
  {
   "cell_type": "code",
   "execution_count": 5,
   "metadata": {},
   "outputs": [
    {
     "name": "stderr",
     "output_type": "stream",
     "text": [
      "Wavelength calibration loaded\n"
     ]
    }
   ],
   "source": [
    "# Открываем устройство\n",
    "device = Spectrometer()\n",
    "\n",
    "# Настройка устройства\n",
    "device.set_config(\n",
    "    exposure=1,     # Экспозиция 1 мс\n",
    "    n_times=1000,   # За один раз будет считана 1000 кадров\n",
    "    wavelength_calibration_path='data/profile.json' # Путь к файлу калибровки длин волн\n",
    ")\n",
    "\n",
    "# Чтение темнового сигнала (ячейку нужно выполнять, закрыв спектрометр от света)\n",
    "device.read_dark_signal(n_times=1000) "
   ]
  },
  {
   "cell_type": "code",
   "execution_count": 3,
   "metadata": {},
   "outputs": [],
   "source": [
    "# Чтение данных с устройства (будет считана 1000 кадров)\n",
    "spectrum = device.read()\n",
    "\n",
    "# Сохранение считанных данных\n",
    "spectrum.save('recorded_spectrum')"
   ]
  }
 ],
 "metadata": {
  "kernelspec": {
   "display_name": ".venv",
   "language": "python",
   "name": "python3"
  },
  "language_info": {
   "codemirror_mode": {
    "name": "ipython",
    "version": 3
   },
   "file_extension": ".py",
   "mimetype": "text/x-python",
   "name": "python",
   "nbconvert_exporter": "python",
   "pygments_lexer": "ipython3",
   "version": "3.13.1"
  },
  "orig_nbformat": 4
 },
 "nbformat": 4,
 "nbformat_minor": 2
}
