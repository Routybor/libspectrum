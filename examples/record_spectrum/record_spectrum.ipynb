{
 "cells": [
  {
   "attachments": {},
   "cell_type": "markdown",
   "metadata": {},
   "source": [
    "# Чтение спектра и запись данных в файл"
   ]
  },
  {
   "cell_type": "code",
   "execution_count": null,
   "metadata": {},
   "outputs": [],
   "source": [
    "from pyspectrum import Spectrometer, usb_spectrometer, Spectrum, Data"
   ]
  },
  {
   "cell_type": "code",
   "execution_count": null,
   "metadata": {},
   "outputs": [],
   "source": [
    "# Открываем устройство\n",
    "# Параметр reopen нужен для того, чтобы при повторном исполнении ячейки\n",
    "# не было ошибки, что устройство уже было открыто\n",
    "device = Spectrometer(usb_spectrometer(reopen=True))\n",
    "\n",
    "# Настройка устройства\n",
    "device.set_config(\n",
    "    exposure=1,     # Экспозиция 1 мс\n",
    "    n_times=1000,   # За один раз будет считана 1000 кадров\n",
    "    wavelength_calibration_path='data/profile.json' # Путь к файлу калибровки длин волн\n",
    ")\n",
    "\n",
    "# Чтение темнового сигнала (ячейку нужно выполнять, закрыв спектрометр от света)\n",
    "device.read_dark_signal(n_times=1000) "
   ]
  },
  {
   "cell_type": "code",
   "execution_count": null,
   "metadata": {},
   "outputs": [],
   "source": [
    "# Чтение данных с устройства (будет считана 1000 кадров)\n",
    "spectrum = device.read()\n",
    "\n",
    "# Сохранение считанных данных\n",
    "spectrum.save('recorded_spectrum')"
   ]
  }
 ],
 "metadata": {
  "language_info": {
   "name": "python"
  },
  "orig_nbformat": 4
 },
 "nbformat": 4,
 "nbformat_minor": 2
}
